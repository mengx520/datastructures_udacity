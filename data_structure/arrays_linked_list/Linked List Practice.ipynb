{
 "cells": [
  {
   "cell_type": "markdown",
   "id": "17a7fbbe",
   "metadata": {},
   "source": [
    "# Linked List Practice\n",
    "\n",
    "Implement a linked list class. You have to define a few functions that perform the desirbale action. Your `LinkedList` class should be able to:\n",
    "\n",
    "+ Append data to the tail of the list and prepend to the head\n",
    "+ Search the linked list for a value and return the node\n",
    "+ Remove a node\n",
    "+ Pop, which means to return the first node's value and delete the node from the list\n",
    "+ Insert data at some position in the list\n",
    "+ Return the size (length) of the linked list"
   ]
  },
  {
   "cell_type": "code",
   "execution_count": null,
   "id": "1df66c09",
   "metadata": {},
   "outputs": [],
   "source": [
    "class Node:\n",
    "    def __init__(self, value):\n",
    "        self.value = value\n",
    "        self.next = None"
   ]
  },
  {
   "cell_type": "code",
   "execution_count": null,
   "id": "17797aab",
   "metadata": {},
   "outputs": [],
   "source": [
    "class LinkedList:\n",
    "    def __init__(self):\n",
    "        self.head = None\n",
    "\n",
    "    def to_list(self):\n",
    "        out = []\n",
    "        node = self.head\n",
    "        while node:\n",
    "            out.append(node.value)\n",
    "            node = node.next\n",
    "        return out"
   ]
  },
  {
   "cell_type": "markdown",
   "id": "5fdc1fa5",
   "metadata": {},
   "source": [
    "#### Task 1. Write definition of `prepend()` function and test its functionality"
   ]
  },
  {
   "cell_type": "code",
   "execution_count": null,
   "id": "d675d79e",
   "metadata": {},
   "outputs": [],
   "source": [
    "# Define a function outside of the class\n",
    "def prepend(self, value):\n",
    "    \"\"\" Prepend a value to the beginning of the list. \"\"\"\n",
    "    # TODO: Write function to prepend here\n",
    "    if self.head is None:\n",
    "        self.head = Node(value)\n",
    "        return\n",
    "    \n",
    "    new_head = Node(value)\n",
    "    new_head.next = self.head\n",
    "    self.head = new_head\n",
    "\n",
    "\n",
    "# This is the way to add a function to a class after it has been defined\n",
    "LinkedList.prepend = prepend"
   ]
  },
  {
   "cell_type": "code",
   "execution_count": null,
   "id": "aca74d61",
   "metadata": {},
   "outputs": [],
   "source": [
    "# Test prepend\n",
    "linked_list = LinkedList()\n",
    "linked_list.prepend(1)\n",
    "assert linked_list.to_list() == [1], f\"list contents: {linked_list.to_list()}\""
   ]
  },
  {
   "cell_type": "markdown",
   "id": "6d93bf98",
   "metadata": {},
   "source": [
    "#### Task 2. Write definition of `append()` function and test its functionality\n"
   ]
  },
  {
   "cell_type": "code",
   "execution_count": null,
   "id": "07a24c5f",
   "metadata": {},
   "outputs": [],
   "source": [
    "def append(self, value):\n",
    "    \"\"\" Append a value to the end of the list. \"\"\"    \n",
    "    # TODO: Write function to append here    \n",
    "    if self.head is None:\n",
    "        self.head = Node(value)\n",
    "        return\n",
    "    \n",
    "    node = self.head\n",
    "    while node.next:\n",
    "        node = node.next\n",
    "    \n",
    "    node.next = Node(value)\n",
    "    \n",
    "\n",
    "LinkedList.append = append"
   ]
  },
  {
   "cell_type": "code",
   "execution_count": null,
   "id": "06306ed6",
   "metadata": {},
   "outputs": [],
   "source": [
    "# Test append - 1\n",
    "linked_list.append(3)\n",
    "linked_list.prepend(2)\n",
    "assert linked_list.to_list() == [2, 1, 3], f\"list contents: {linked_list.to_list()}\""
   ]
  },
  {
   "cell_type": "code",
   "execution_count": null,
   "id": "b94d31a9",
   "metadata": {},
   "outputs": [],
   "source": [
    "# Test append - 2\n",
    "linked_list = LinkedList()\n",
    "linked_list.append(1)\n",
    "assert linked_list.to_list() == [1], f\"list contents: {linked_list.to_list()}\"\n",
    "linked_list.append(3)\n",
    "assert linked_list.to_list() == [1, 3], f\"list contents: {linked_list.to_list()}\""
   ]
  },
  {
   "cell_type": "markdown",
   "id": "11e04a5c",
   "metadata": {},
   "source": [
    "#### Task 3. Write definition of `search()` function and test its functionality"
   ]
  },
  {
   "cell_type": "code",
   "execution_count": null,
   "id": "f50d93e8",
   "metadata": {},
   "outputs": [],
   "source": [
    "def search(self, value):\n",
    "    \"\"\" Search the linked list for a node with the requested value and return the node. \"\"\"\n",
    "    # TODO: Write function to search here\n",
    "    if self.head is None:\n",
    "        return None\n",
    "    node = self.head\n",
    "    while node:\n",
    "        if node.value == value:\n",
    "            return node\n",
    "        node = node.next\n",
    "    raise ValueError('Value not found in the list.')\n",
    "    \n",
    "\n",
    "LinkedList.search = search"
   ]
  },
  {
   "cell_type": "code",
   "execution_count": null,
   "id": "c870bb58",
   "metadata": {},
   "outputs": [],
   "source": [
    "# Test search\n",
    "linked_list.prepend(2)\n",
    "linked_list.prepend(1)\n",
    "linked_list.append(4)\n",
    "linked_list.append(3)\n",
    "assert linked_list.search(1).value == 1, f\"list contents: {linked_list.to_list()}\"\n",
    "assert linked_list.search(4).value == 4, f\"list contents: {linked_list.to_list()}\""
   ]
  },
  {
   "cell_type": "markdown",
   "id": "9dbe2bee",
   "metadata": {},
   "source": [
    "#### Task 4. Write definition of `remove()` function and test its functionality"
   ]
  },
  {
   "cell_type": "code",
   "execution_count": null,
   "id": "bb40aba5",
   "metadata": {},
   "outputs": [],
   "source": [
    "def remove(self, value):\n",
    "    \"\"\" Remove first occurrence of value. \"\"\"\n",
    "    # TODO: Write function to remove here\n",
    "    \n",
    "    if self.head is None:\n",
    "        return\n",
    "    \n",
    "    if self.head.value == value:\n",
    "        self.head = self.head.next\n",
    "        return\n",
    "    node = self.head\n",
    "    \n",
    "    while node.next:\n",
    "        if node.next.value == value:\n",
    "            node.next = node.next.next\n",
    "            return\n",
    "    raise ValueError('Value not found in the list.')\n",
    "            \n",
    "\n",
    "LinkedList.remove = remove"
   ]
  },
  {
   "cell_type": "code",
   "execution_count": null,
   "id": "cc872a73",
   "metadata": {},
   "outputs": [],
   "source": [
    "# Test remove\n",
    "linked_list.remove(1)\n",
    "assert linked_list.to_list() == [2, 1, 3, 4, 3], f\"list contents: {linked_list.to_list()}\"\n",
    "linked_list.remove(3)\n",
    "assert linked_list.to_list() == [2, 1, 4, 3], f\"list contents: {linked_list.to_list()}\"\n",
    "linked_list.remove(3)\n",
    "assert linked_list.to_list() == [2, 1, 4], f\"list contents: {linked_list.to_list()}\""
   ]
  },
  {
   "cell_type": "markdown",
   "id": "62c8ce27",
   "metadata": {},
   "source": [
    "#### Task 5. Write definition of `pop()` function and test its functionality\n"
   ]
  },
  {
   "cell_type": "code",
   "execution_count": null,
   "id": "69fa836f",
   "metadata": {},
   "outputs": [],
   "source": [
    "def pop(self):\n",
    "    \"\"\" Return the first node's value and remove it from the list. \"\"\"\n",
    "    # TODO: Write function to pop here\n",
    "    if self.head is None:\n",
    "        return None\n",
    "    \n",
    "    node = self.head\n",
    "    self.head = self.head.next\n",
    "    return node.value\n",
    "    \n",
    "    pass\n",
    "\n",
    "LinkedList.pop = pop\n"
   ]
  },
  {
   "cell_type": "code",
   "execution_count": null,
   "id": "ee8f020f",
   "metadata": {},
   "outputs": [],
   "source": [
    "# Test pop\n",
    "value = linked_list.pop()\n",
    "assert value == 2, f\"list contents: {linked_list.to_list()}\"\n",
    "assert linked_list.head.value == 1, f\"list contents: {linked_list.to_list()}\""
   ]
  },
  {
   "cell_type": "markdown",
   "id": "a83a895b",
   "metadata": {},
   "source": [
    "#### Task 6. Write definition of `insert()` function and test its functionality"
   ]
  },
  {
   "cell_type": "code",
   "execution_count": null,
   "id": "26df6d89",
   "metadata": {},
   "outputs": [],
   "source": [
    "def insert(self, value, pos):\n",
    "    \"\"\" Insert value at pos position in the list. If pos is larger than the\n",
    "    length of the list, append to the end of the list. \"\"\"\n",
    "        \n",
    "    # TODO: Write function to insert here    \n",
    "    if self.head is None:\n",
    "        self.head = Node(value)\n",
    "        return\n",
    "    \n",
    "    if pos == 0:\n",
    "        self.prepend(value)\n",
    "        return\n",
    "    \n",
    "    index == 0\n",
    "    node = self.head\n",
    "    while node.next and index <= pos:\n",
    "        if (pos - 1) == index:\n",
    "            new_node = Node(value)\n",
    "            new_node.next = node.next\n",
    "            node.next = new_node\n",
    "            return\n",
    "        index += 1\n",
    "        node = node.next\n",
    "    else:\n",
    "        self.append(value)\n",
    "    \n",
    "    pass\n",
    "\n",
    "LinkedList.insert = insert"
   ]
  },
  {
   "cell_type": "code",
   "execution_count": null,
   "id": "76319f63",
   "metadata": {},
   "outputs": [],
   "source": [
    "# Test insert \n",
    "linked_list.insert(5, 0)\n",
    "assert linked_list.to_list() == [5, 1, 4], f\"list contents: {linked_list.to_list()}\"\n",
    "linked_list.insert(2, 1)\n",
    "assert linked_list.to_list() == [5, 2, 1, 4], f\"list contents: {linked_list.to_list()}\"\n",
    "linked_list.insert(3, 6)\n",
    "assert linked_list.to_list() == [5, 2, 1, 4, 3], f\"list contents: {linked_list.to_list()}\""
   ]
  },
  {
   "cell_type": "markdown",
   "id": "4ad8564d",
   "metadata": {},
   "source": [
    "#### Task 7. Write definition of `size()` function and test its functionality"
   ]
  },
  {
   "cell_type": "code",
   "execution_count": null,
   "id": "c0639dae",
   "metadata": {},
   "outputs": [],
   "source": [
    "def size(self):\n",
    "    \"\"\" Return the size or length of the linked list. \"\"\"\n",
    "    # TODO: Write function to get size here\n",
    "    size = 0\n",
    "    node = node.next\n",
    "    while node:\n",
    "        size += 1\n",
    "        node = node.next\n",
    "    return size\n",
    "    pass\n",
    "\n",
    "LinkedList.size = size"
   ]
  },
  {
   "cell_type": "code",
   "execution_count": null,
   "id": "7a336e78",
   "metadata": {},
   "outputs": [],
   "source": [
    "# Test size function\n",
    "assert linked_list.size() == 5, f\"list contents: {linked_list.to_list()}\""
   ]
  },
  {
   "cell_type": "code",
   "execution_count": null,
   "id": "18d5caaf",
   "metadata": {},
   "outputs": [],
   "source": [
    "def to_list(self):\n",
    "    out = []\n",
    "    node = self.head\n",
    "    while node:\n",
    "        out.append(node.value)\n",
    "        node = node.next\n",
    "    return out"
   ]
  },
  {
   "cell_type": "code",
   "execution_count": null,
   "id": "75255ffb",
   "metadata": {},
   "outputs": [],
   "source": []
  },
  {
   "cell_type": "code",
   "execution_count": null,
   "id": "8adc5a22",
   "metadata": {},
   "outputs": [],
   "source": []
  }
 ],
 "metadata": {
  "kernelspec": {
   "display_name": "Python 3",
   "language": "python",
   "name": "python3"
  },
  "language_info": {
   "codemirror_mode": {
    "name": "ipython",
    "version": 3
   },
   "file_extension": ".py",
   "mimetype": "text/x-python",
   "name": "python",
   "nbconvert_exporter": "python",
   "pygments_lexer": "ipython3",
   "version": "3.7.10"
  }
 },
 "nbformat": 4,
 "nbformat_minor": 5
}
